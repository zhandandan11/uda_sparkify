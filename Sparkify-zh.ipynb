{
 "cells": [
  {
   "cell_type": "markdown",
   "metadata": {},
   "source": [
    "# Sparkify 项目 Workspace\n",
    "这个 Workspace 包括一个迷你的子数据集（128MB），是完整数据集（12GB）的一个子集。在将你的项目部署到云上之前，你可以自由使用 Workspace 来创建你的项目或用Spark来探索这个较小数据集。设置 Spark 集群的指南可以在选修 Spark 课程的内容里找到。\n",
    "\n",
    "你可以依照下面的步骤进行项目的数据分析和模型搭建部分。"
   ]
  },
  {
   "cell_type": "code",
   "execution_count": 1,
   "metadata": {},
   "outputs": [],
   "source": [
    "# import libraries\n",
    "from pyspark.sql import SparkSession\n",
    "from pyspark.sql.functions import avg, col, concat, desc, explode, lit, min, max, split, udf\n",
    "from pyspark.sql.types import IntegerType\n",
    "\n",
    "from pyspark.ml import Pipeline\n",
    "from pyspark.ml.classification import LogisticRegression\n",
    "from pyspark.ml.evaluation import MulticlassClassificationEvaluator\n",
    "from pyspark.ml.classification import LogisticRegression, GBTClassifier\n",
    "from pyspark.ml.feature import CountVectorizer, IDF, Normalizer, RegexTokenizer, StandardScaler, StopWordsRemover, StringIndexer, VectorAssembler\n",
    "from pyspark.ml.tuning import CrossValidator, ParamGridBuilder\n",
    "import datetime\n",
    "\n",
    "import re"
   ]
  },
  {
   "cell_type": "code",
   "execution_count": 2,
   "metadata": {},
   "outputs": [],
   "source": [
    "import re\n",
    "import datetime\n",
    "import matplotlib.pyplot as plt\n",
    "import pandas as pd\n",
    "import seaborn as sns\n",
    "%matplotlib inline"
   ]
  },
  {
   "cell_type": "code",
   "execution_count": 3,
   "metadata": {},
   "outputs": [],
   "source": [
    "spark = SparkSession.builder \\\n",
    "    .appName(\"zdd Sparkify\") \\\n",
    ".getOrCreate()\n"
   ]
  },
  {
   "cell_type": "code",
   "execution_count": 4,
   "metadata": {},
   "outputs": [
    {
     "data": {
      "text/plain": [
       "DataFrame[artist: string, auth: string, firstName: string, gender: string, itemInSession: bigint, lastName: string, length: double, level: string, location: string, method: string, page: string, registration: bigint, sessionId: bigint, song: string, status: bigint, ts: bigint, userAgent: string, userId: string]"
      ]
     },
     "execution_count": 4,
     "metadata": {},
     "output_type": "execute_result"
    }
   ],
   "source": [
    "#小数据集\n",
    "path = 'mini_sparkify_event_data.json'\n",
    "df = spark.read.json(path)\n",
    "df.persist()"
   ]
  },
  {
   "cell_type": "code",
   "execution_count": 4,
   "metadata": {},
   "outputs": [
    {
     "data": {
      "text/plain": [
       "DataFrame[artist: string, auth: string, firstName: string, gender: string, itemInSession: bigint, lastName: string, length: double, level: string, location: string, method: string, page: string, registration: bigint, sessionId: bigint, song: string, status: bigint, ts: bigint, userAgent: string, userId: string]"
      ]
     },
     "execution_count": 4,
     "metadata": {},
     "output_type": "execute_result"
    }
   ],
   "source": [
    "#中等数据集\n",
    "path = 'medium-sparkify-event-data.json'\n",
    "df = spark.read.json(path)\n",
    "df.persist()"
   ]
  },
  {
   "cell_type": "markdown",
   "metadata": {},
   "source": [
    "# 加载和清洗数据\n",
    "在这个 Workspace 中，小数据集的名称是 `mini_sparkify_event_data.json`.加载和清洗数据集，检查是否有无效或缺失数据——例如，没有userid或sessionid的数据。 "
   ]
  },
  {
   "cell_type": "code",
   "execution_count": 5,
   "metadata": {},
   "outputs": [
    {
     "name": "stdout",
     "output_type": "stream",
     "text": [
      "+-------+------------------+\n",
      "|summary|         sessionId|\n",
      "+-------+------------------+\n",
      "|  count|            543705|\n",
      "|   mean|2040.8143533717732|\n",
      "| stddev|1434.3389310782754|\n",
      "|    min|                 1|\n",
      "|    max|              4808|\n",
      "+-------+------------------+\n",
      "\n"
     ]
    }
   ],
   "source": [
    "df.describe(\"sessionId\").show()"
   ]
  },
  {
   "cell_type": "code",
   "execution_count": 6,
   "metadata": {},
   "outputs": [
    {
     "name": "stdout",
     "output_type": "stream",
     "text": [
      "+------+-----+\n",
      "|userid|count|\n",
      "+------+-----+\n",
      "|    99| 1205|\n",
      "|    98| 3206|\n",
      "|    97| 1563|\n",
      "|    96| 2304|\n",
      "|    95| 2448|\n",
      "|    94|  132|\n",
      "|    93| 1953|\n",
      "|    92| 9767|\n",
      "|    91|  555|\n",
      "|    90|  756|\n",
      "|     9| 2596|\n",
      "|    89|  396|\n",
      "|    88| 2359|\n",
      "|    87| 5243|\n",
      "|    86| 1968|\n",
      "|    85| 2696|\n",
      "|    83| 1668|\n",
      "|    82| 1445|\n",
      "|    81| 1974|\n",
      "|    80| 1356|\n",
      "+------+-----+\n",
      "only showing top 20 rows\n",
      "\n"
     ]
    }
   ],
   "source": [
    "df.groupby('userid').count().sort(desc('userid')).show()"
   ]
  },
  {
   "cell_type": "code",
   "execution_count": 7,
   "metadata": {},
   "outputs": [
    {
     "data": {
      "text/plain": [
       "543705"
      ]
     },
     "execution_count": 7,
     "metadata": {},
     "output_type": "execute_result"
    }
   ],
   "source": [
    "df.count()"
   ]
  },
  {
   "cell_type": "code",
   "execution_count": 8,
   "metadata": {},
   "outputs": [],
   "source": [
    "df_valid = df.dropna(how = \"any\", subset = [\"userId\", \"sessionId\"]) "
   ]
  },
  {
   "cell_type": "code",
   "execution_count": 9,
   "metadata": {},
   "outputs": [
    {
     "data": {
      "text/plain": [
       "543705"
      ]
     },
     "execution_count": 9,
     "metadata": {},
     "output_type": "execute_result"
    }
   ],
   "source": [
    "df_valid.count()"
   ]
  },
  {
   "cell_type": "code",
   "execution_count": 10,
   "metadata": {},
   "outputs": [
    {
     "data": {
      "text/plain": [
       "0"
      ]
     },
     "execution_count": 10,
     "metadata": {},
     "output_type": "execute_result"
    }
   ],
   "source": [
    "df_valid.filter(df_valid[\"sessionId\"] != \"\").count()"
   ]
  },
  {
   "cell_type": "code",
   "execution_count": 11,
   "metadata": {},
   "outputs": [
    {
     "data": {
      "text/plain": [
       "528005"
      ]
     },
     "execution_count": 11,
     "metadata": {},
     "output_type": "execute_result"
    }
   ],
   "source": [
    "df_valid.filter(df_valid[\"userId\"] != \"\").count()"
   ]
  },
  {
   "cell_type": "code",
   "execution_count": 12,
   "metadata": {},
   "outputs": [],
   "source": [
    "df = df_valid.filter(df_valid[\"userId\"] != \"\")"
   ]
  },
  {
   "cell_type": "markdown",
   "metadata": {},
   "source": [
    "# 探索性数据分析\n",
    "当你使用完整数据集时，通过加载小数据集，在 Spark 中完成基础操作来实现探索性数据分析。在这个 Workspace 中，我们已经提供给你一个你可以探索的小数据集。\n",
    "\n",
    "### 定义客户流失\n",
    "\n",
    "在你完成初步分析之后，创建一列 `Churn` 作为模型的标签。我建议你使用 `Cancellation Confirmation` 事件来定义客户流失，该事件在付费或免费客户身上都有发生。作为一个奖励任务，你也可以深入了解 `Downgrade` 事件。\n",
    "\n",
    "### 探索数据\n",
    "你定义好客户流失后，就可以执行一些探索性数据分析，观察留存用户和流失用户的行为。你可以首先把这两类用户的数据聚合到一起，观察固定时间内某个特定动作出现的次数或者播放音乐的数量。"
   ]
  },
  {
   "cell_type": "code",
   "execution_count": 13,
   "metadata": {},
   "outputs": [
    {
     "name": "stdout",
     "output_type": "stream",
     "text": [
      "+--------------------+------+\n",
      "|                page| count|\n",
      "+--------------------+------+\n",
      "|              Cancel|    99|\n",
      "|Cancellation Conf...|    99|\n",
      "|    Submit Downgrade|   117|\n",
      "|      Submit Upgrade|   287|\n",
      "|               Error|   503|\n",
      "|       Save Settings|   585|\n",
      "|             Upgrade|   968|\n",
      "|               About|  1026|\n",
      "|                Help|  2644|\n",
      "|            Settings|  2964|\n",
      "|           Downgrade|  3811|\n",
      "|         Thumbs Down|  4911|\n",
      "|              Logout|  5990|\n",
      "|         Roll Advert|  7773|\n",
      "|          Add Friend|  8087|\n",
      "|     Add to Playlist| 12349|\n",
      "|                Home| 19089|\n",
      "|           Thumbs Up| 23826|\n",
      "|            NextSong|432877|\n",
      "+--------------------+------+\n",
      "\n"
     ]
    }
   ],
   "source": [
    "df.groupby('page').count().sort('count').show()\n",
    "#df.select('page').dropDuplicates().show()"
   ]
  },
  {
   "cell_type": "code",
   "execution_count": 66,
   "metadata": {},
   "outputs": [
    {
     "data": {
      "text/html": [
       "<div>\n",
       "<style scoped>\n",
       "    .dataframe tbody tr th:only-of-type {\n",
       "        vertical-align: middle;\n",
       "    }\n",
       "\n",
       "    .dataframe tbody tr th {\n",
       "        vertical-align: top;\n",
       "    }\n",
       "\n",
       "    .dataframe thead th {\n",
       "        text-align: right;\n",
       "    }\n",
       "</style>\n",
       "<table border=\"1\" class=\"dataframe\">\n",
       "  <thead>\n",
       "    <tr style=\"text-align: right;\">\n",
       "      <th></th>\n",
       "      <th>page</th>\n",
       "      <th>count</th>\n",
       "    </tr>\n",
       "  </thead>\n",
       "  <tbody>\n",
       "    <tr>\n",
       "      <th>0</th>\n",
       "      <td>Cancel</td>\n",
       "      <td>99</td>\n",
       "    </tr>\n",
       "    <tr>\n",
       "      <th>1</th>\n",
       "      <td>Cancellation Confirmation</td>\n",
       "      <td>99</td>\n",
       "    </tr>\n",
       "    <tr>\n",
       "      <th>2</th>\n",
       "      <td>Submit Downgrade</td>\n",
       "      <td>117</td>\n",
       "    </tr>\n",
       "    <tr>\n",
       "      <th>3</th>\n",
       "      <td>Submit Upgrade</td>\n",
       "      <td>287</td>\n",
       "    </tr>\n",
       "    <tr>\n",
       "      <th>4</th>\n",
       "      <td>Error</td>\n",
       "      <td>503</td>\n",
       "    </tr>\n",
       "    <tr>\n",
       "      <th>5</th>\n",
       "      <td>Save Settings</td>\n",
       "      <td>585</td>\n",
       "    </tr>\n",
       "    <tr>\n",
       "      <th>6</th>\n",
       "      <td>Upgrade</td>\n",
       "      <td>968</td>\n",
       "    </tr>\n",
       "    <tr>\n",
       "      <th>7</th>\n",
       "      <td>About</td>\n",
       "      <td>1026</td>\n",
       "    </tr>\n",
       "    <tr>\n",
       "      <th>8</th>\n",
       "      <td>Help</td>\n",
       "      <td>2644</td>\n",
       "    </tr>\n",
       "    <tr>\n",
       "      <th>9</th>\n",
       "      <td>Settings</td>\n",
       "      <td>2964</td>\n",
       "    </tr>\n",
       "    <tr>\n",
       "      <th>10</th>\n",
       "      <td>Downgrade</td>\n",
       "      <td>3811</td>\n",
       "    </tr>\n",
       "    <tr>\n",
       "      <th>11</th>\n",
       "      <td>Thumbs Down</td>\n",
       "      <td>4911</td>\n",
       "    </tr>\n",
       "    <tr>\n",
       "      <th>12</th>\n",
       "      <td>Logout</td>\n",
       "      <td>5990</td>\n",
       "    </tr>\n",
       "    <tr>\n",
       "      <th>13</th>\n",
       "      <td>Roll Advert</td>\n",
       "      <td>7773</td>\n",
       "    </tr>\n",
       "    <tr>\n",
       "      <th>14</th>\n",
       "      <td>Add Friend</td>\n",
       "      <td>8087</td>\n",
       "    </tr>\n",
       "    <tr>\n",
       "      <th>15</th>\n",
       "      <td>Add to Playlist</td>\n",
       "      <td>12349</td>\n",
       "    </tr>\n",
       "    <tr>\n",
       "      <th>16</th>\n",
       "      <td>Home</td>\n",
       "      <td>19089</td>\n",
       "    </tr>\n",
       "    <tr>\n",
       "      <th>17</th>\n",
       "      <td>Thumbs Up</td>\n",
       "      <td>23826</td>\n",
       "    </tr>\n",
       "    <tr>\n",
       "      <th>18</th>\n",
       "      <td>NextSong</td>\n",
       "      <td>432877</td>\n",
       "    </tr>\n",
       "  </tbody>\n",
       "</table>\n",
       "</div>"
      ],
      "text/plain": [
       "                         page   count\n",
       "0                      Cancel      99\n",
       "1   Cancellation Confirmation      99\n",
       "2            Submit Downgrade     117\n",
       "3              Submit Upgrade     287\n",
       "4                       Error     503\n",
       "5               Save Settings     585\n",
       "6                     Upgrade     968\n",
       "7                       About    1026\n",
       "8                        Help    2644\n",
       "9                    Settings    2964\n",
       "10                  Downgrade    3811\n",
       "11                Thumbs Down    4911\n",
       "12                     Logout    5990\n",
       "13                Roll Advert    7773\n",
       "14                 Add Friend    8087\n",
       "15            Add to Playlist   12349\n",
       "16                       Home   19089\n",
       "17                  Thumbs Up   23826\n",
       "18                   NextSong  432877"
      ]
     },
     "execution_count": 66,
     "metadata": {},
     "output_type": "execute_result"
    }
   ],
   "source": [
    "df.groupby('page').count().sort('count').toPandas()"
   ]
  },
  {
   "cell_type": "markdown",
   "metadata": {},
   "source": [
    "### *添加churn*"
   ]
  },
  {
   "cell_type": "code",
   "execution_count": 14,
   "metadata": {},
   "outputs": [],
   "source": [
    "churn_users = df.filter(df.page==\"Cancellation Confirmation\").select(\"userId\").dropDuplicates()\n",
    "churn_users_list = [(row['userId']) for row in churn_users.collect()]\n",
    "df_withchurn = df.withColumn(\"churn\", df.userId.isin(churn_users_list).cast('int'))"
   ]
  },
  {
   "cell_type": "markdown",
   "metadata": {},
   "source": [
    "### *1.gender探索*"
   ]
  },
  {
   "cell_type": "code",
   "execution_count": null,
   "metadata": {},
   "outputs": [],
   "source": [
    "df_churn = df_withchurn.dropDuplicates([\"userId\"]).groupby([\"churn\"]).count().withColumnRenamed(\"count\", \"churncount\")\n",
    "get_Freq = udf(lambda x,y : (x/y)*100)"
   ]
  },
  {
   "cell_type": "code",
   "execution_count": 16,
   "metadata": {
    "scrolled": true
   },
   "outputs": [
    {
     "name": "stdout",
     "output_type": "stream",
     "text": [
      "+-----+------+-----+\n",
      "|churn|gender|count|\n",
      "+-----+------+-----+\n",
      "|    0|     M|  196|\n",
      "|    0|     F|  153|\n",
      "|    1|     F|   45|\n",
      "|    1|     M|   54|\n",
      "+-----+------+-----+\n",
      "\n"
     ]
    }
   ],
   "source": [
    "df_withchurn.dropDuplicates([\"userId\", \"gender\"]).groupby([\"churn\", \"gender\"]).count().sort(\"churn\").show()"
   ]
  },
  {
   "cell_type": "code",
   "execution_count": 57,
   "metadata": {},
   "outputs": [],
   "source": [
    "df_g = df_withchurn.dropDuplicates([\"userId\", \"gender\"]).groupby([\"churn\", \"gender\"]).count().withColumnRenamed(\"count\", \"genderccount\")"
   ]
  },
  {
   "cell_type": "code",
   "execution_count": 59,
   "metadata": {},
   "outputs": [
    {
     "name": "stdout",
     "output_type": "stream",
     "text": [
      "+-----+------+------------+----------+-----------+\n",
      "|churn|gender|genderccount|churncount|gender_Freq|\n",
      "+-----+------+------------+----------+-----------+\n",
      "|    0|     M|         196|       349|  56.160458|\n",
      "|    0|     F|         153|       349|  43.839542|\n",
      "|    1|     F|          45|        99|  45.454544|\n",
      "|    1|     M|          54|        99|  54.545456|\n",
      "+-----+------+------------+----------+-----------+\n",
      "\n"
     ]
    }
   ],
   "source": [
    "df_gendercount = df_g.join(df_churn, 'churn')\n",
    "df_gendercount.withColumn(\"gender_Freq\", get_Freq(df_gendercount.genderccount, df_gendercount.churncount).cast('float')).sort(\"churn\").show()"
   ]
  },
  {
   "cell_type": "code",
   "execution_count": 61,
   "metadata": {},
   "outputs": [
    {
     "data": {
      "image/png": "[encoded data removed]",
      "text/plain": [
       "<matplotlib.figure.Figure at 0x7fa105573b70>"
      ]
     },
     "metadata": {
      "needs_background": "light"
     },
     "output_type": "display_data"
    }
   ],
   "source": [
    "pd_gender = df_gendercount.withColumn(\"gender_Freq\", get_Freq(df_gendercount.genderccount, df_gendercount.churncount).cast('float')).toPandas()\n",
    "sns.barplot(data=pd_gender, x='gender', y='gender_Freq', hue='churn');"
   ]
  },
  {
   "cell_type": "code",
   "execution_count": null,
   "metadata": {},
   "outputs": [],
   "source": [
    "男性客户流失比例要稍高于女性客户"
   ]
  },
  {
   "cell_type": "markdown",
   "metadata": {},
   "source": [
    "### *2.artist探索*"
   ]
  },
  {
   "cell_type": "code",
   "execution_count": 18,
   "metadata": {},
   "outputs": [
    {
     "name": "stdout",
     "output_type": "stream",
     "text": [
      "+-----+------+\n",
      "|churn| count|\n",
      "+-----+------+\n",
      "|    1|103646|\n",
      "|    0|424359|\n",
      "+-----+------+\n",
      "\n"
     ]
    }
   ],
   "source": [
    "df_withchurn.groupby([\"churn\"]).count().show()"
   ]
  },
  {
   "cell_type": "code",
   "execution_count": 19,
   "metadata": {},
   "outputs": [
    {
     "name": "stdout",
     "output_type": "stream",
     "text": [
      "+-----+-----------+\n",
      "|churn|artistcount|\n",
      "+-----+-----------+\n",
      "|    0|      19993|\n",
      "|    1|      12152|\n",
      "+-----+-----------+\n",
      "\n"
     ]
    }
   ],
   "source": [
    "df_withchurn.dropDuplicates([\"churn\", \"artist\"]).groupby([\"churn\"]).count().withColumnRenamed(\"count\", \"artistcount\").sort(\"churn\").show()"
   ]
  },
  {
   "cell_type": "code",
   "execution_count": 20,
   "metadata": {},
   "outputs": [
    {
     "data": {
      "image/png": "[encoded data removed]",
      "text/plain": [
       "<matplotlib.figure.Figure at 0x7fa10595d198>"
      ]
     },
     "metadata": {
      "needs_background": "light"
     },
     "output_type": "display_data"
    }
   ],
   "source": [
    "df_artist = df_withchurn.dropDuplicates([\"churn\", \"artist\"]).groupby([\"churn\"]).count().withColumnRenamed(\"count\", \"artistcount\").sort(\"churn\").toPandas()\n",
    "sns.barplot(x=\"churn\", y=\"artistcount\", data=df_artist);"
   ]
  },
  {
   "cell_type": "code",
   "execution_count": null,
   "metadata": {},
   "outputs": [],
   "source": [
    "流失用户关注的歌手数量比活跃用号关注的歌手数量明显要少的多"
   ]
  },
  {
   "cell_type": "markdown",
   "metadata": {},
   "source": [
    "### *3.level探索*"
   ]
  },
  {
   "cell_type": "code",
   "execution_count": 36,
   "metadata": {},
   "outputs": [],
   "source": [
    "df_withchurn.createOrReplaceTempView(\"dftable\")\n",
    "df_level = spark.sql('''\n",
    "select\n",
    "userId, level,churn\n",
    "from(SELECT userId, level,churn,\n",
    "                      row_number() over(partition by userId order by ts desc) rank\n",
    "                      FROM dftable)\n",
    "where rank = 1\n",
    "order by userId\n",
    "'''\n",
    ")"
   ]
  },
  {
   "cell_type": "code",
   "execution_count": 37,
   "metadata": {},
   "outputs": [
    {
     "name": "stdout",
     "output_type": "stream",
     "text": [
      "+-----+-----+-----+\n",
      "|level|churn|count|\n",
      "+-----+-----+-----+\n",
      "| paid|    0|  209|\n",
      "| free|    0|  140|\n",
      "| paid|    1|   67|\n",
      "| free|    1|   32|\n",
      "+-----+-----+-----+\n",
      "\n"
     ]
    }
   ],
   "source": [
    "df_level.groupby([\"level\",\"churn\"]).count().show()"
   ]
  },
  {
   "cell_type": "code",
   "execution_count": 199,
   "metadata": {},
   "outputs": [],
   "source": [
    "df_l = df_level.groupby([\"level\",\"churn\"]).count().withColumnRenamed(\"count\", \"levelccount\")"
   ]
  },
  {
   "cell_type": "code",
   "execution_count": 200,
   "metadata": {},
   "outputs": [
    {
     "name": "stdout",
     "output_type": "stream",
     "text": [
      "+-----+-----+-----------+----------+----------+\n",
      "|churn|level|levelccount|churncount|level_Freq|\n",
      "+-----+-----+-----------+----------+----------+\n",
      "|    0| paid|        209|       349| 59.885387|\n",
      "|    0| free|        140|       349| 40.114613|\n",
      "|    1| paid|         67|        99| 67.676765|\n",
      "|    1| free|         32|        99|  32.32323|\n",
      "+-----+-----+-----------+----------+----------+\n",
      "\n"
     ]
    }
   ],
   "source": [
    "df_levelcount = df_l.join(df_churn, 'churn')\n",
    "df_levelcount.withColumn(\"level_Freq\", get_Freq(df_levelcount.levelccount, df_levelcount.churncount).cast('float')).sort(\"churn\").show()"
   ]
  },
  {
   "cell_type": "code",
   "execution_count": 203,
   "metadata": {},
   "outputs": [],
   "source": [
    "pd_level = df_levelcount.withColumn(\"level_Freq\", get_Freq(df_levelcount.levelccount, df_levelcount.churncount).cast('float')).toPandas()"
   ]
  },
  {
   "cell_type": "code",
   "execution_count": 204,
   "metadata": {},
   "outputs": [
    {
     "data": {
      "image/png": "[encoded data removed]",
      "text/plain": [
       "<matplotlib.figure.Figure at 0x7fa104e77d30>"
      ]
     },
     "metadata": {
      "needs_background": "light"
     },
     "output_type": "display_data"
    }
   ],
   "source": [
    "sns.barplot(data=pd_level, x='level', y='level_Freq', hue='churn');"
   ]
  },
  {
   "cell_type": "code",
   "execution_count": null,
   "metadata": {},
   "outputs": [],
   "source": [
    "付费状态下客户流失多，付费状态下客户流失少，故可以作为特征列"
   ]
  },
  {
   "cell_type": "markdown",
   "metadata": {},
   "source": [
    "### *4.page探索*"
   ]
  },
  {
   "cell_type": "code",
   "execution_count": 84,
   "metadata": {},
   "outputs": [],
   "source": [
    "df_page = spark.sql('''\n",
    "select \n",
    "t1.page, \n",
    "t1.churn,\n",
    "t1.pc_count/(t2.p_count*t3.c_count) Freq\n",
    "\n",
    "from (SELECT \n",
    "          page, churn,\n",
    "          count(page) pc_count\n",
    "                \n",
    "          FROM dftable \n",
    "          where page not in (\"Cancel\",\"Cancellation Confirmation\")\n",
    "          group by page, churn) t1\n",
    "left join (SELECT \n",
    "          page,\n",
    "          count(page) p_count\n",
    "                \n",
    "          FROM dftable \n",
    "          where page not in (\"Cancel\",\"Cancellation Confirmation\")\n",
    "          group by page) t2 on t1.page = t2.page\n",
    "left join (SELECT churn,\n",
    "           count(page) c_count\n",
    "                \n",
    "          FROM dftable \n",
    "          where page not in (\"Cancel\",\"Cancellation Confirmation\")\n",
    "          group by churn) t3 on t1.churn = t3.churn\n",
    "'''\n",
    ")"
   ]
  },
  {
   "cell_type": "code",
   "execution_count": 88,
   "metadata": {},
   "outputs": [
    {
     "data": {
      "image/png": "[encoded data removed]",
      "text/plain": [
       "<matplotlib.figure.Figure at 0x7fa1055a88d0>"
      ]
     },
     "metadata": {
      "needs_background": "light"
     },
     "output_type": "display_data"
    }
   ],
   "source": [
    "plt.figure(figsize=[15,8])\n",
    "sns.barplot(data=pd_page, x='page', y='Freq', hue='churn');\n",
    "plt.xticks(rotation=45);"
   ]
  },
  {
   "cell_type": "code",
   "execution_count": null,
   "metadata": {},
   "outputs": [],
   "source": [
    "如上图所示，Submit Downgrade、Thumbs Down、Downgrade、Roll Advert、Upgrade、Submit Downgrade页面的流失客户与活跃客户比例差别较大"
   ]
  },
  {
   "cell_type": "markdown",
   "metadata": {},
   "source": [
    "### *5.sessionId探索*"
   ]
  },
  {
   "cell_type": "code",
   "execution_count": 89,
   "metadata": {},
   "outputs": [
    {
     "name": "stdout",
     "output_type": "stream",
     "text": [
      "+-----+------+\n",
      "|churn| count|\n",
      "+-----+------+\n",
      "|    1|103646|\n",
      "|    0|424359|\n",
      "+-----+------+\n",
      "\n"
     ]
    }
   ],
   "source": [
    "df_withchurn.select([\"churn\", \"sessionId\"]).groupby(\"churn\").count().show()"
   ]
  },
  {
   "cell_type": "code",
   "execution_count": 90,
   "metadata": {},
   "outputs": [
    {
     "name": "stdout",
     "output_type": "stream",
     "text": [
      "+-----+-----+\n",
      "|churn|count|\n",
      "+-----+-----+\n",
      "|    1| 1072|\n",
      "|    0| 3861|\n",
      "+-----+-----+\n",
      "\n"
     ]
    }
   ],
   "source": [
    "df_withchurn.select([\"churn\", \"sessionId\"]).groupby(\"churn\").count().show()"
   ]
  },
  {
   "cell_type": "code",
   "execution_count": 91,
   "metadata": {
    "scrolled": true
   },
   "outputs": [
    {
     "name": "stdout",
     "output_type": "stream",
     "text": [
      "+-----+-----------------+\n",
      "|churn|       avg(count)|\n",
      "+-----+-----------------+\n",
      "|    1|96.68470149253731|\n",
      "|    0|109.9090909090909|\n",
      "+-----+-----------------+\n",
      "\n"
     ]
    }
   ],
   "source": [
    "df_withchurn.select([\"churn\", \"sessionId\"]).groupby(\"churn\").count().show()"
   ]
  },
  {
   "cell_type": "code",
   "execution_count": null,
   "metadata": {},
   "outputs": [],
   "source": [
    "流失客户和活跃客户的sessionId的平均会议次数差别较大"
   ]
  },
  {
   "cell_type": "markdown",
   "metadata": {},
   "source": [
    "### *6.songs探索*"
   ]
  },
  {
   "cell_type": "code",
   "execution_count": 99,
   "metadata": {},
   "outputs": [],
   "source": [
    "get_time = udf(lambda x: datetime.datetime.fromtimestamp(x / 1000.0).strftime(\"%Y-%m-%d\"))\n",
    "get_month = udf(lambda x: datetime.datetime.fromtimestamp(x / 1000.0). month, IntegerType())\n",
    "get_day = udf(lambda x: datetime.datetime.fromtimestamp(x / 1000.0). day, IntegerType())\n",
    "df_withchurn = df_withchurn.withColumn(\"time\", get_time(df_withchurn.ts))                                                                              \n",
    "df_withchurn = df_withchurn.withColumn(\"day_time\", get_month(df_withchurn.ts)*31+get_day(df_withchurn.ts)-310)"
   ]
  },
  {
   "cell_type": "code",
   "execution_count": 133,
   "metadata": {},
   "outputs": [],
   "source": [
    "df_d = df_withchurn.filter(df_withchurn.page==\"NextSong\").groupby([\"churn\", \"day_time\"]).count().sort('day_time','churn').withColumnRenamed(\"count\", \"songccount\")"
   ]
  },
  {
   "cell_type": "code",
   "execution_count": 198,
   "metadata": {},
   "outputs": [
    {
     "name": "stdout",
     "output_type": "stream",
     "text": [
      "+-----+----------+\n",
      "|churn|churncount|\n",
      "+-----+----------+\n",
      "|    1|        99|\n",
      "|    0|       349|\n",
      "+-----+----------+\n",
      "\n"
     ]
    }
   ],
   "source": [
    "df_churn.show()"
   ]
  },
  {
   "cell_type": "code",
   "execution_count": 134,
   "metadata": {},
   "outputs": [],
   "source": [
    "get_song = udf(lambda x,y : (x/y))\n",
    "df_song = df_d.join(df_churn, 'churn')"
   ]
  },
  {
   "cell_type": "code",
   "execution_count": 137,
   "metadata": {},
   "outputs": [
    {
     "name": "stdout",
     "output_type": "stream",
     "text": [
      "+-----+--------+----------+----------+------------------+\n",
      "|churn|day_time|songccount|churncount|         song_Freq|\n",
      "+-----+--------+----------+----------+------------------+\n",
      "|    1|      61|        64|        99| 64.64646464646465|\n",
      "|    1|      60|       455|        99| 459.5959595959596|\n",
      "|    1|      59|       334|        99|337.37373737373736|\n",
      "|    1|      58|       426|        99|430.30303030303025|\n",
      "|    1|      57|       411|        99| 415.1515151515151|\n",
      "|    1|      56|       111|        99|112.12121212121211|\n",
      "|    1|      55|        72|        99| 72.72727272727273|\n",
      "|    1|      54|       355|        99| 358.5858585858586|\n",
      "|    1|      53|       393|        99|  396.969696969697|\n",
      "|    1|      52|       535|        99| 540.4040404040404|\n",
      "|    1|      51|       853|        99| 861.6161616161615|\n",
      "|    1|      50|       327|        99| 330.3030303030303|\n",
      "|    1|      49|       470|        99| 474.7474747474747|\n",
      "|    1|      48|       244|        99|246.46464646464645|\n",
      "|    1|      47|       808|        99|  816.161616161616|\n",
      "|    1|      46|      1480|        99| 1494.949494949495|\n",
      "|    1|      45|       723|        99| 730.3030303030303|\n",
      "|    1|      44|      1099|        99|  1110.10101010101|\n",
      "|    1|      43|       933|        99| 942.4242424242424|\n",
      "|    1|      42|       651|        99| 657.5757575757576|\n",
      "+-----+--------+----------+----------+------------------+\n",
      "only showing top 20 rows\n",
      "\n"
     ]
    }
   ],
   "source": [
    "df_song.withColumn(\"song_Freq\", get_Freq(df_song.songccount, df_song.churncount).cast('float')).show()"
   ]
  },
  {
   "cell_type": "code",
   "execution_count": 150,
   "metadata": {},
   "outputs": [],
   "source": [
    "song_pd = df_song.withColumn(\"song_Freq\", get_Freq(df_song.songccount, df_song.churncount).cast('float')).sort('day_time').toPandas()"
   ]
  },
  {
   "cell_type": "code",
   "execution_count": 147,
   "metadata": {},
   "outputs": [
    {
     "data": {
      "image/png": "[encoded data removed]",
      "text/plain": [
       "<matplotlib.figure.Figure at 0x7fa104ab2240>"
      ]
     },
     "metadata": {
      "needs_background": "light"
     },
     "output_type": "display_data"
    }
   ],
   "source": [
    "plt.figure(figsize=[20,10])\n",
    "sns.barplot(data=song_pd , x='churn', y='song_Freq', hue='day_time',palette=sns.color_palette(\"hls\"));\n",
    "plt.legend(ncol=2);"
   ]
  },
  {
   "cell_type": "code",
   "execution_count": 149,
   "metadata": {},
   "outputs": [
    {
     "data": {
      "text/plain": [
       "churn\n",
       "0    5621.258065\n",
       "1    1382.934426\n",
       "Name: songccount, dtype: float64"
      ]
     },
     "execution_count": 149,
     "metadata": {},
     "output_type": "execute_result"
    }
   ],
   "source": [
    "song_pd.groupby('churn')['songccount'].mean()"
   ]
  },
  {
   "cell_type": "code",
   "execution_count": null,
   "metadata": {},
   "outputs": [],
   "source": [
    "活跃的用户和流失的用户平均每天听歌的数量差距很明显，可作为特征列"
   ]
  },
  {
   "cell_type": "markdown",
   "metadata": {},
   "source": [
    "# 特征工程\n",
    "熟悉了数据之后，就可以构建你认为会对训练模型帮助最大的特征。要处理完整数据集，你可以按照下述步骤：\n",
    "- 写一个脚本来从小数据集中提取你需要的特征\n",
    "- 确保你的脚本可以拓展到大数据集上，使用之前教过的最佳实践原则\n",
    "- 在完整数据集上运行你的脚本，按运行情况调试代码\n",
    "\n",
    "如果是在教室的 workspace，你可以直接用里面提供的小数据集来提取特征。确保当你开始使用 Spark 集群的时候，把上述的成果迁移到大数据集上。"
   ]
  },
  {
   "cell_type": "code",
   "execution_count": 151,
   "metadata": {},
   "outputs": [],
   "source": [
    "df_withchurn = df_withchurn.replace([\"M\", \"F\"],[\"0\", \"1\"], \"gender\")\n",
    "df_withchurn = df_withchurn.replace([\"free\", \"paid\"], [\"0\", \"1\"], \"level\")"
   ]
  },
  {
   "cell_type": "code",
   "execution_count": 152,
   "metadata": {},
   "outputs": [],
   "source": [
    "df_withchurn = df_withchurn.withColumn(\"gender_num\", df_withchurn.gender.cast('int'))\n",
    "df_withchurn = df_withchurn.withColumn(\"level_num\", df_withchurn.level.cast('int'))"
   ]
  },
  {
   "cell_type": "code",
   "execution_count": 153,
   "metadata": {},
   "outputs": [
    {
     "data": {
      "text/plain": [
       "528005"
      ]
     },
     "execution_count": 153,
     "metadata": {},
     "output_type": "execute_result"
    }
   ],
   "source": [
    "df_withchurn.count()"
   ]
  },
  {
   "cell_type": "code",
   "execution_count": 73,
   "metadata": {},
   "outputs": [],
   "source": [
    "get_time = udf(lambda x: datetime.datetime.fromtimestamp(x / 1000.0).strftime(\"%Y-%m-%d\"))\n",
    "get_month = udf(lambda x: datetime.datetime.fromtimestamp(x / 1000.0). month, IntegerType())\n",
    "get_day = udf(lambda x: datetime.datetime.fromtimestamp(x / 1000.0). day, IntegerType())\n",
    "df_withchurn = df_withchurn.withColumn(\"time\", get_time(df_withchurn.ts))                                                                              \n",
    "df_withchurn = df_withchurn.withColumn(\"day_time\", get_month(df_withchurn.ts)*31+get_day(df_withchurn.ts)-310)"
   ]
  },
  {
   "cell_type": "code",
   "execution_count": 154,
   "metadata": {},
   "outputs": [
    {
     "name": "stdout",
     "output_type": "stream",
     "text": [
      "+----------+--------+-----+\n",
      "|      time|day_time|count|\n",
      "+----------+--------+-----+\n",
      "|2018-10-01|       1| 6977|\n",
      "|2018-10-02|       2| 8821|\n",
      "|2018-10-03|       3| 9888|\n",
      "|2018-10-04|       4| 9893|\n",
      "|2018-10-05|       5|10353|\n",
      "|2018-10-06|       6| 5956|\n",
      "|2018-10-07|       7| 2380|\n",
      "|2018-10-08|       8| 9743|\n",
      "|2018-10-09|       9|10065|\n",
      "|2018-10-10|      10|10611|\n",
      "|2018-10-11|      11|11360|\n",
      "|2018-10-12|      12| 9540|\n",
      "|2018-10-13|      13| 5914|\n",
      "|2018-10-14|      14| 3956|\n",
      "|2018-10-15|      15| 8028|\n",
      "|2018-10-16|      16| 9825|\n",
      "|2018-10-17|      17| 9564|\n",
      "|2018-10-18|      18|10868|\n",
      "|2018-10-19|      19|10989|\n",
      "|2018-10-20|      20| 6036|\n",
      "|2018-10-21|      21| 4381|\n",
      "|2018-10-22|      22| 9638|\n",
      "|2018-10-23|      23|10052|\n",
      "|2018-10-24|      24| 8820|\n",
      "|2018-10-25|      25|10191|\n",
      "|2018-10-26|      26| 9387|\n",
      "|2018-10-27|      27| 7099|\n",
      "|2018-10-28|      28| 6163|\n",
      "|2018-10-29|      29| 8742|\n",
      "|2018-10-30|      30|10705|\n",
      "|2018-10-31|      31|12181|\n",
      "|2018-11-01|      32|10297|\n",
      "|2018-11-02|      33| 9713|\n",
      "|2018-11-03|      34| 8481|\n",
      "|2018-11-04|      35| 6857|\n",
      "|2018-11-05|      36|11680|\n",
      "|2018-11-06|      37|12715|\n",
      "|2018-11-07|      38|10435|\n",
      "|2018-11-08|      39|10824|\n",
      "|2018-11-09|      40|12274|\n",
      "|2018-11-10|      41| 7398|\n",
      "|2018-11-11|      42| 5388|\n",
      "|2018-11-12|      43| 9860|\n",
      "|2018-11-13|      44| 9027|\n",
      "|2018-11-14|      45|10039|\n",
      "|2018-11-15|      46|10027|\n",
      "|2018-11-16|      47| 9181|\n",
      "|2018-11-17|      48| 7000|\n",
      "|2018-11-18|      49| 4871|\n",
      "|2018-11-19|      50| 8387|\n",
      "|2018-11-20|      51| 9714|\n",
      "|2018-11-21|      52| 7826|\n",
      "|2018-11-22|      53| 6588|\n",
      "|2018-11-23|      54| 8038|\n",
      "|2018-11-24|      55| 7465|\n",
      "|2018-11-25|      56| 5342|\n",
      "|2018-11-26|      57| 7529|\n",
      "|2018-11-27|      58| 6309|\n",
      "|2018-11-28|      59| 7828|\n",
      "|2018-11-29|      60|10119|\n",
      "|2018-11-30|      61| 8663|\n",
      "|2018-12-01|      63|    4|\n",
      "+----------+--------+-----+\n",
      "\n"
     ]
    }
   ],
   "source": [
    "df_withchurn.groupby('time','day_time').count().sort('time').show(100)"
   ]
  },
  {
   "cell_type": "code",
   "execution_count": 155,
   "metadata": {},
   "outputs": [],
   "source": [
    "# 去掉'2018-12-01'\n",
    "df_withchurn =  df_withchurn.filter((df_withchurn.time!='2018-12-01'))"
   ]
  },
  {
   "cell_type": "code",
   "execution_count": 157,
   "metadata": {},
   "outputs": [],
   "source": [
    "df_withchurn.createOrReplaceTempView(\"dftable\")"
   ]
  },
  {
   "cell_type": "markdown",
   "metadata": {},
   "source": [
    "特性1:**gender**--用户性别\n",
    "\n",
    "特性2:**artistcount**--用户关注的歌手人数\n",
    "\n",
    "特性3:**leve**l--用户最后状态是否付费\n",
    "\n",
    "特性4:**regtime**--用户自注册以来的天数\n",
    "\n",
    "特性5:**se_avg**-用户sessionId平均会议次数\n",
    "\n",
    "特性6:**freq_Roll_Advert**---用户使用Roll_Adver页面的频率\n",
    "\n",
    "特性7:**freq_Submit_Upgrade**--用户使用Submit_Upgrade页面的频率\n",
    "\n",
    "特性8:**freq_Upgrade**--用户使用Submit Downgrade页面的频率\n",
    "\n",
    "特性9:**freq_Submit Downgrade**--用户使用Upgrade页面的频率\n",
    "\n",
    "特性10:**freq_Thumbs Down**--用户使用Thumbs Down页面的频率\n",
    "\n",
    "特性11:**freq_Downgrade**--用户使用Downgrade页面的频率\n",
    "\n",
    "特性12: **songs_per_count**--用户平均每天听的歌曲数  \n",
    "\n",
    "特性13:**time_per_day**--用户平均每天活跃时间 "
   ]
  },
  {
   "cell_type": "code",
   "execution_count": 158,
   "metadata": {},
   "outputs": [],
   "source": [
    "df_feature1 = spark.sql('''\n",
    "select \n",
    "t1.userId,\n",
    "t1.gender, \n",
    "t1.artistcount,\n",
    "t2.level,\n",
    "t1.regtime,\n",
    "t3.se_avg,\n",
    "t4.Roll_Advert_count/t4.page_count freq_Roll_Advert,\n",
    "t4.Submit_Upgrade_count/t4.page_count freq_Submit_Upgrade,\n",
    "t4.Upgrade_count/t4.page_count freq_Upgrade,\n",
    "t4.Submit_Downgrade_count/t4.page_count freq_Submit_Downgrade,\n",
    "t4.Thumbs_Down_count/t4.page_count freq_Thumbs_Down, \n",
    "t4.Downgrade_count/t4.page_count freq_Downgrade,\n",
    "t5.songs_per_count, \n",
    "t5.time_per_day,\n",
    "t1.churn\n",
    "\n",
    "from  (SELECT \n",
    "          userId,\n",
    "          max(distinct gender_num) gender,\n",
    "          count(distinct artist) artistcount,\n",
    "          max(ts)-max(registration) regtime,\n",
    "          max(distinct churn) churn\n",
    "          \n",
    "          FROM dftable \n",
    "          group by userId) t1\n",
    "          \n",
    "left join(select userId, level_num level\n",
    "                      from(SELECT userId, level_num,\n",
    "                      row_number() over(partition by userId order by time desc) rank\n",
    "                      FROM dftable)\n",
    "                      where rank = 1\n",
    "          order by userId) t2 on t1.userId = t2.userId\n",
    "          \n",
    "left join(select userId, mean(se_num)  se_avg\n",
    "          from(SELECT userId, sessionId, count(sessionId) se_num\n",
    "                  FROM dftable\n",
    "                  group by userId, sessionId)\n",
    "          group by userId) t3 on t1.userId = t3.userId\n",
    "\n",
    "left join(SELECT \n",
    "          userId,\n",
    "          count(case when \n",
    "                page = \"Roll Advert\" \n",
    "                then page\n",
    "                end) Roll_Advert_count,  \n",
    "          count(case when \n",
    "                page = \"Submit Upgrade\"   \n",
    "                then page\n",
    "                end) Submit_Upgrade_count,\n",
    "          count(case when \n",
    "                page = \"Upgrade\"   \n",
    "                then page\n",
    "                end) Upgrade_count,\n",
    "          count(case when \n",
    "                page = \"Submit Downgrade\" \n",
    "                then page\n",
    "                end) Submit_Downgrade_count, \n",
    "          count(case when \n",
    "                page = \"Thumbs Down\"   \n",
    "                then page\n",
    "                end) Thumbs_Down_count, \n",
    "          count(case when \n",
    "                page = \"Downgrade\"   \n",
    "                then page\n",
    "                end) Downgrade_count,\n",
    "          count(page) page_count\n",
    "                \n",
    "          FROM dftable \n",
    "          where page not in (\"Cancel\",\"Cancellation Confirmation\")\n",
    "          group by userId) t4 on t1.userId = t4.userId\n",
    "\n",
    "left join(select \n",
    "           userId,\n",
    "          avg(songs_count) songs_per_count, \n",
    "          avg(time_day) time_per_day\n",
    "\n",
    "          from  (SELECT \n",
    "                    userId,\n",
    "                    day_time,\n",
    "                    count(song) songs_count,\n",
    "                    max(ts) -min(ts) time_day\n",
    "          \n",
    "                    FROM dftable \n",
    "                    where page =\"NextSong\"\n",
    "                    group by userId, day_time)\n",
    "          group by userId) t5 on t1.userId = t5.userId\n",
    "          '''\n",
    "          )"
   ]
  },
  {
   "cell_type": "code",
   "execution_count": 159,
   "metadata": {},
   "outputs": [],
   "source": [
    "feature1_pd = df_feature1.toPandas()"
   ]
  },
  {
   "cell_type": "code",
   "execution_count": 160,
   "metadata": {},
   "outputs": [
    {
     "data": {
      "text/html": [
       "<div>\n",
       "<style scoped>\n",
       "    .dataframe tbody tr th:only-of-type {\n",
       "        vertical-align: middle;\n",
       "    }\n",
       "\n",
       "    .dataframe tbody tr th {\n",
       "        vertical-align: top;\n",
       "    }\n",
       "\n",
       "    .dataframe thead th {\n",
       "        text-align: right;\n",
       "    }\n",
       "</style>\n",
       "<table border=\"1\" class=\"dataframe\">\n",
       "  <thead>\n",
       "    <tr style=\"text-align: right;\">\n",
       "      <th></th>\n",
       "      <th>userId</th>\n",
       "      <th>gender</th>\n",
       "      <th>artistcount</th>\n",
       "      <th>level</th>\n",
       "      <th>regtime</th>\n",
       "      <th>se_avg</th>\n",
       "      <th>freq_Roll_Advert</th>\n",
       "      <th>freq_Submit_Upgrade</th>\n",
       "      <th>freq_Upgrade</th>\n",
       "      <th>freq_Submit_Downgrade</th>\n",
       "      <th>freq_Thumbs_Down</th>\n",
       "      <th>freq_Downgrade</th>\n",
       "      <th>songs_per_count</th>\n",
       "      <th>time_per_day</th>\n",
       "      <th>churn</th>\n",
       "    </tr>\n",
       "  </thead>\n",
       "  <tbody>\n",
       "    <tr>\n",
       "      <th>0</th>\n",
       "      <td>100010</td>\n",
       "      <td>1</td>\n",
       "      <td>94</td>\n",
       "      <td>0</td>\n",
       "      <td>1237978000</td>\n",
       "      <td>68.500000</td>\n",
       "      <td>0.162963</td>\n",
       "      <td>0.000000</td>\n",
       "      <td>0.014815</td>\n",
       "      <td>0.0</td>\n",
       "      <td>0.022222</td>\n",
       "      <td>0.000000</td>\n",
       "      <td>48.000000</td>\n",
       "      <td>1.260050e+07</td>\n",
       "      <td>1</td>\n",
       "    </tr>\n",
       "    <tr>\n",
       "      <th>1</th>\n",
       "      <td>200002</td>\n",
       "      <td>0</td>\n",
       "      <td>287</td>\n",
       "      <td>1</td>\n",
       "      <td>4607120000</td>\n",
       "      <td>79.000000</td>\n",
       "      <td>0.027990</td>\n",
       "      <td>0.002545</td>\n",
       "      <td>0.005089</td>\n",
       "      <td>0.0</td>\n",
       "      <td>0.012723</td>\n",
       "      <td>0.007634</td>\n",
       "      <td>51.666667</td>\n",
       "      <td>1.301050e+07</td>\n",
       "      <td>1</td>\n",
       "    </tr>\n",
       "    <tr>\n",
       "      <th>2</th>\n",
       "      <td>296</td>\n",
       "      <td>1</td>\n",
       "      <td>108</td>\n",
       "      <td>1</td>\n",
       "      <td>2301546000</td>\n",
       "      <td>30.400000</td>\n",
       "      <td>0.060000</td>\n",
       "      <td>0.006667</td>\n",
       "      <td>0.006667</td>\n",
       "      <td>0.0</td>\n",
       "      <td>0.000000</td>\n",
       "      <td>0.006667</td>\n",
       "      <td>22.400000</td>\n",
       "      <td>5.521400e+06</td>\n",
       "      <td>1</td>\n",
       "    </tr>\n",
       "    <tr>\n",
       "      <th>3</th>\n",
       "      <td>125</td>\n",
       "      <td>0</td>\n",
       "      <td>61</td>\n",
       "      <td>0</td>\n",
       "      <td>9108471000</td>\n",
       "      <td>28.000000</td>\n",
       "      <td>0.071429</td>\n",
       "      <td>0.000000</td>\n",
       "      <td>0.000000</td>\n",
       "      <td>0.0</td>\n",
       "      <td>0.011905</td>\n",
       "      <td>0.000000</td>\n",
       "      <td>20.666667</td>\n",
       "      <td>5.063333e+06</td>\n",
       "      <td>0</td>\n",
       "    </tr>\n",
       "    <tr>\n",
       "      <th>4</th>\n",
       "      <td>124</td>\n",
       "      <td>1</td>\n",
       "      <td>1240</td>\n",
       "      <td>1</td>\n",
       "      <td>9724648000</td>\n",
       "      <td>126.823529</td>\n",
       "      <td>0.000464</td>\n",
       "      <td>0.000000</td>\n",
       "      <td>0.000000</td>\n",
       "      <td>0.0</td>\n",
       "      <td>0.006964</td>\n",
       "      <td>0.009749</td>\n",
       "      <td>86.952381</td>\n",
       "      <td>2.404148e+07</td>\n",
       "      <td>1</td>\n",
       "    </tr>\n",
       "    <tr>\n",
       "      <th>5</th>\n",
       "      <td>51</td>\n",
       "      <td>0</td>\n",
       "      <td>233</td>\n",
       "      <td>1</td>\n",
       "      <td>1628279000</td>\n",
       "      <td>65.600000</td>\n",
       "      <td>0.003067</td>\n",
       "      <td>0.000000</td>\n",
       "      <td>0.000000</td>\n",
       "      <td>0.0</td>\n",
       "      <td>0.003067</td>\n",
       "      <td>0.012270</td>\n",
       "      <td>44.333333</td>\n",
       "      <td>1.087250e+07</td>\n",
       "      <td>1</td>\n",
       "    </tr>\n",
       "    <tr>\n",
       "      <th>6</th>\n",
       "      <td>7</td>\n",
       "      <td>0</td>\n",
       "      <td>407</td>\n",
       "      <td>0</td>\n",
       "      <td>6741774000</td>\n",
       "      <td>40.000000</td>\n",
       "      <td>0.058333</td>\n",
       "      <td>0.000000</td>\n",
       "      <td>0.010000</td>\n",
       "      <td>0.0</td>\n",
       "      <td>0.006667</td>\n",
       "      <td>0.000000</td>\n",
       "      <td>30.800000</td>\n",
       "      <td>1.127533e+07</td>\n",
       "      <td>0</td>\n",
       "    </tr>\n",
       "    <tr>\n",
       "      <th>7</th>\n",
       "      <td>200037</td>\n",
       "      <td>0</td>\n",
       "      <td>114</td>\n",
       "      <td>0</td>\n",
       "      <td>3676664000</td>\n",
       "      <td>22.142857</td>\n",
       "      <td>0.058824</td>\n",
       "      <td>0.000000</td>\n",
       "      <td>0.000000</td>\n",
       "      <td>0.0</td>\n",
       "      <td>0.019608</td>\n",
       "      <td>0.000000</td>\n",
       "      <td>17.428571</td>\n",
       "      <td>8.658714e+06</td>\n",
       "      <td>1</td>\n",
       "    </tr>\n",
       "    <tr>\n",
       "      <th>8</th>\n",
       "      <td>169</td>\n",
       "      <td>0</td>\n",
       "      <td>111</td>\n",
       "      <td>0</td>\n",
       "      <td>6811920000</td>\n",
       "      <td>18.625000</td>\n",
       "      <td>0.087248</td>\n",
       "      <td>0.000000</td>\n",
       "      <td>0.013423</td>\n",
       "      <td>0.0</td>\n",
       "      <td>0.000000</td>\n",
       "      <td>0.000000</td>\n",
       "      <td>14.000000</td>\n",
       "      <td>3.242875e+06</td>\n",
       "      <td>0</td>\n",
       "    </tr>\n",
       "    <tr>\n",
       "      <th>9</th>\n",
       "      <td>205</td>\n",
       "      <td>1</td>\n",
       "      <td>803</td>\n",
       "      <td>1</td>\n",
       "      <td>4497561000</td>\n",
       "      <td>248.800000</td>\n",
       "      <td>0.000000</td>\n",
       "      <td>0.000000</td>\n",
       "      <td>0.000000</td>\n",
       "      <td>0.0</td>\n",
       "      <td>0.008039</td>\n",
       "      <td>0.008039</td>\n",
       "      <td>116.444444</td>\n",
       "      <td>2.894333e+07</td>\n",
       "      <td>0</td>\n",
       "    </tr>\n",
       "  </tbody>\n",
       "</table>\n",
       "</div>"
      ],
      "text/plain": [
       "   userId  gender  artistcount  level     regtime      se_avg  \\\n",
       "0  100010       1           94      0  1237978000   68.500000   \n",
       "1  200002       0          287      1  4607120000   79.000000   \n",
       "2     296       1          108      1  2301546000   30.400000   \n",
       "3     125       0           61      0  9108471000   28.000000   \n",
       "4     124       1         1240      1  9724648000  126.823529   \n",
       "5      51       0          233      1  1628279000   65.600000   \n",
       "6       7       0          407      0  6741774000   40.000000   \n",
       "7  200037       0          114      0  3676664000   22.142857   \n",
       "8     169       0          111      0  6811920000   18.625000   \n",
       "9     205       1          803      1  4497561000  248.800000   \n",
       "\n",
       "   freq_Roll_Advert  freq_Submit_Upgrade  freq_Upgrade  freq_Submit_Downgrade  \\\n",
       "0          0.162963             0.000000      0.014815                    0.0   \n",
       "1          0.027990             0.002545      0.005089                    0.0   \n",
       "2          0.060000             0.006667      0.006667                    0.0   \n",
       "3          0.071429             0.000000      0.000000                    0.0   \n",
       "4          0.000464             0.000000      0.000000                    0.0   \n",
       "5          0.003067             0.000000      0.000000                    0.0   \n",
       "6          0.058333             0.000000      0.010000                    0.0   \n",
       "7          0.058824             0.000000      0.000000                    0.0   \n",
       "8          0.087248             0.000000      0.013423                    0.0   \n",
       "9          0.000000             0.000000      0.000000                    0.0   \n",
       "\n",
       "   freq_Thumbs_Down  freq_Downgrade  songs_per_count  time_per_day  churn  \n",
       "0          0.022222        0.000000        48.000000  1.260050e+07      1  \n",
       "1          0.012723        0.007634        51.666667  1.301050e+07      1  \n",
       "2          0.000000        0.006667        22.400000  5.521400e+06      1  \n",
       "3          0.011905        0.000000        20.666667  5.063333e+06      0  \n",
       "4          0.006964        0.009749        86.952381  2.404148e+07      1  \n",
       "5          0.003067        0.012270        44.333333  1.087250e+07      1  \n",
       "6          0.006667        0.000000        30.800000  1.127533e+07      0  \n",
       "7          0.019608        0.000000        17.428571  8.658714e+06      1  \n",
       "8          0.000000        0.000000        14.000000  3.242875e+06      0  \n",
       "9          0.008039        0.008039       116.444444  2.894333e+07      0  "
      ]
     },
     "execution_count": 160,
     "metadata": {},
     "output_type": "execute_result"
    }
   ],
   "source": [
    "feature1_pd.head(10)"
   ]
  },
  {
   "cell_type": "code",
   "execution_count": 161,
   "metadata": {},
   "outputs": [
    {
     "name": "stdout",
     "output_type": "stream",
     "text": [
      "+----------+--------+-----+\n",
      "|      time|day_time|count|\n",
      "+----------+--------+-----+\n",
      "|2018-10-01|       1| 6977|\n",
      "|2018-10-02|       2| 8821|\n",
      "|2018-10-03|       3| 9888|\n",
      "|2018-10-04|       4| 9893|\n",
      "|2018-10-05|       5|10353|\n",
      "|2018-10-06|       6| 5956|\n",
      "|2018-10-07|       7| 2380|\n",
      "|2018-10-08|       8| 9743|\n",
      "|2018-10-09|       9|10065|\n",
      "|2018-10-10|      10|10611|\n",
      "|2018-10-11|      11|11360|\n",
      "|2018-10-12|      12| 9540|\n",
      "|2018-10-13|      13| 5914|\n",
      "|2018-10-14|      14| 3956|\n",
      "|2018-10-15|      15| 8028|\n",
      "|2018-10-16|      16| 9825|\n",
      "|2018-10-17|      17| 9564|\n",
      "|2018-10-18|      18|10868|\n",
      "|2018-10-19|      19|10989|\n",
      "|2018-10-20|      20| 6036|\n",
      "|2018-10-21|      21| 4381|\n",
      "|2018-10-22|      22| 9638|\n",
      "|2018-10-23|      23|10052|\n",
      "|2018-10-24|      24| 8820|\n",
      "|2018-10-25|      25|10191|\n",
      "|2018-10-26|      26| 9387|\n",
      "|2018-10-27|      27| 7099|\n",
      "|2018-10-28|      28| 6163|\n",
      "|2018-10-29|      29| 8742|\n",
      "|2018-10-30|      30|10705|\n",
      "|2018-10-31|      31|12181|\n",
      "|2018-11-01|      32|10297|\n",
      "|2018-11-02|      33| 9713|\n",
      "|2018-11-03|      34| 8481|\n",
      "|2018-11-04|      35| 6857|\n",
      "|2018-11-05|      36|11680|\n",
      "|2018-11-06|      37|12715|\n",
      "|2018-11-07|      38|10435|\n",
      "|2018-11-08|      39|10824|\n",
      "|2018-11-09|      40|12274|\n",
      "|2018-11-10|      41| 7398|\n",
      "|2018-11-11|      42| 5388|\n",
      "|2018-11-12|      43| 9860|\n",
      "|2018-11-13|      44| 9027|\n",
      "|2018-11-14|      45|10039|\n",
      "|2018-11-15|      46|10027|\n",
      "|2018-11-16|      47| 9181|\n",
      "|2018-11-17|      48| 7000|\n",
      "|2018-11-18|      49| 4871|\n",
      "|2018-11-19|      50| 8387|\n",
      "|2018-11-20|      51| 9714|\n",
      "|2018-11-21|      52| 7826|\n",
      "|2018-11-22|      53| 6588|\n",
      "|2018-11-23|      54| 8038|\n",
      "|2018-11-24|      55| 7465|\n",
      "|2018-11-25|      56| 5342|\n",
      "|2018-11-26|      57| 7529|\n",
      "|2018-11-27|      58| 6309|\n",
      "|2018-11-28|      59| 7828|\n",
      "|2018-11-29|      60|10119|\n",
      "|2018-11-30|      61| 8663|\n",
      "+----------+--------+-----+\n",
      "\n"
     ]
    }
   ],
   "source": [
    "df_withchurn.groupby('time','day_time').count().sort('time').show(300)"
   ]
  },
  {
   "cell_type": "code",
   "execution_count": null,
   "metadata": {},
   "outputs": [],
   "source": []
  },
  {
   "cell_type": "markdown",
   "metadata": {},
   "source": [
    "# 建模\n",
    "将完整数据集分成训练集、测试集和验证集。测试几种你学过的机器学习方法。评价不同机器学习方法的准确率，根据情况调节参数。根据准确率你挑选出表现最好的那个模型，然后报告在训练集上的结果。因为流失顾客数据集很小，我建议选用 F1 score 作为优化指标。"
   ]
  },
  {
   "cell_type": "code",
   "execution_count": 163,
   "metadata": {},
   "outputs": [
    {
     "data": {
      "text/plain": [
       "DataFrame[userId: string, gender: int, artistcount: bigint, level: int, regtime: bigint, se_avg: double, freq_Roll_Advert: double, freq_Submit_Upgrade: double, freq_Upgrade: double, freq_Submit_Downgrade: double, freq_Thumbs_Down: double, freq_Downgrade: double, songs_per_count: double, time_per_day: double, churn: int]"
      ]
     },
     "execution_count": 163,
     "metadata": {},
     "output_type": "execute_result"
    }
   ],
   "source": [
    "df_feature1.persist()"
   ]
  },
  {
   "cell_type": "code",
   "execution_count": 164,
   "metadata": {},
   "outputs": [
    {
     "name": "stdout",
     "output_type": "stream",
     "text": [
      "+-----+-----+\n",
      "|churn|count|\n",
      "+-----+-----+\n",
      "|    1|   99|\n",
      "|    0|  349|\n",
      "+-----+-----+\n",
      "\n"
     ]
    }
   ],
   "source": [
    "df_feature1.groupby(\"churn\").count().show()"
   ]
  },
  {
   "cell_type": "code",
   "execution_count": 165,
   "metadata": {},
   "outputs": [],
   "source": [
    "#path1 = \"mini_churn_data.csv\"\n",
    "path1 = \"medium_model_data.csv\""
   ]
  },
  {
   "cell_type": "code",
   "execution_count": 166,
   "metadata": {},
   "outputs": [],
   "source": [
    "df_feature1.write.save(path1, format=\"csv\", header=True)"
   ]
  },
  {
   "cell_type": "code",
   "execution_count": 167,
   "metadata": {},
   "outputs": [
    {
     "data": {
      "text/plain": [
       "DataFrame[userId: string, gender: string, artistcount: string, level: string, regtime: string, se_avg: string, freq_Roll_Advert: string, freq_Submit_Upgrade: string, freq_Upgrade: string, freq_Submit_Downgrade: string, freq_Thumbs_Down: string, freq_Downgrade: string, songs_per_count: string, time_per_day: string, churn: string]"
      ]
     },
     "execution_count": 167,
     "metadata": {},
     "output_type": "execute_result"
    }
   ],
   "source": [
    "df_model = spark.read.csv(path1, header=True)\n",
    "df_model.persist()"
   ]
  },
  {
   "cell_type": "code",
   "execution_count": 168,
   "metadata": {},
   "outputs": [],
   "source": [
    "num_features_list = df_model.columns[1:]\n",
    "for f in num_features_list:\n",
    "    f_name = f + \"_num\"\n",
    "    df_model = df_model.withColumn(f_name, df_model[f].cast(\"float\"))\n",
    "    df_model = df_model.drop(f)"
   ]
  },
  {
   "cell_type": "code",
   "execution_count": 169,
   "metadata": {},
   "outputs": [
    {
     "data": {
      "text/plain": [
       "DataFrame[userId: string, gender_num: float, artistcount_num: float, level_num: float, regtime_num: float, se_avg_num: float, freq_Roll_Advert_num: float, freq_Submit_Upgrade_num: float, freq_Upgrade_num: float, freq_Submit_Downgrade_num: float, freq_Thumbs_Down_num: float, freq_Downgrade_num: float, songs_per_count_num: float, time_per_day_num: float, churn_num: float]"
      ]
     },
     "execution_count": 169,
     "metadata": {},
     "output_type": "execute_result"
    }
   ],
   "source": [
    "df_model.persist()"
   ]
  },
  {
   "cell_type": "markdown",
   "metadata": {},
   "source": [
    "### Create a Vector"
   ]
  },
  {
   "cell_type": "code",
   "execution_count": 170,
   "metadata": {},
   "outputs": [],
   "source": [
    "assembler = VectorAssembler(inputCols=df_model.columns[1:-1], outputCol=\"NumFeatures\")\n",
    "data = assembler.transform(df_model)"
   ]
  },
  {
   "cell_type": "markdown",
   "metadata": {},
   "source": [
    "### 缩放特征"
   ]
  },
  {
   "cell_type": "code",
   "execution_count": 171,
   "metadata": {},
   "outputs": [],
   "source": [
    "scaler = StandardScaler(inputCol=\"NumFeatures\", outputCol=\"ScaledNumFeatures\", withStd=True)\n",
    "scalerModel = scaler.fit(data)\n",
    "data = scalerModel.transform(data)"
   ]
  },
  {
   "cell_type": "code",
   "execution_count": 172,
   "metadata": {},
   "outputs": [
    {
     "data": {
      "text/plain": [
       "DataFrame[userId: string, gender_num: float, artistcount_num: float, level_num: float, regtime_num: float, se_avg_num: float, freq_Roll_Advert_num: float, freq_Submit_Upgrade_num: float, freq_Upgrade_num: float, freq_Submit_Downgrade_num: float, freq_Thumbs_Down_num: float, freq_Downgrade_num: float, songs_per_count_num: float, time_per_day_num: float, churn_num: float, NumFeatures: vector, ScaledNumFeatures: vector]"
      ]
     },
     "execution_count": 172,
     "metadata": {},
     "output_type": "execute_result"
    }
   ],
   "source": [
    "data.persist()"
   ]
  },
  {
   "cell_type": "code",
   "execution_count": 174,
   "metadata": {},
   "outputs": [],
   "source": [
    "data1 = data.select(col(\"churn_num\").alias(\"label\"), col(\"ScaledNumFeatures\").alias(\"features\"))"
   ]
  },
  {
   "cell_type": "code",
   "execution_count": 175,
   "metadata": {},
   "outputs": [
    {
     "name": "stdout",
     "output_type": "stream",
     "text": [
      "+-----+--------------------+\n",
      "|label|            features|\n",
      "+-----+--------------------+\n",
      "|  1.0|[2.01136166752172...|\n",
      "|  0.0|[2.01136166752172...|\n",
      "|  0.0|(13,[1,3,4,5,9,11...|\n",
      "|  0.0|[0.0,1.0353386708...|\n",
      "|  1.0|[0.0,1.1695492393...|\n",
      "|  0.0|[0.0,2.3566736721...|\n",
      "|  0.0|[0.0,1.3612786228...|\n",
      "|  1.0|[2.01136166752172...|\n",
      "|  0.0|[2.01136166752172...|\n",
      "|  0.0|[0.0,1.6568614223...|\n",
      "|  1.0|[2.01136166752172...|\n",
      "|  0.0|[0.0,0.7940791966...|\n",
      "|  0.0|[2.01136166752172...|\n",
      "|  0.0|[0.0,0.7988724312...|\n",
      "|  1.0|[0.0,0.1741541900...|\n",
      "|  0.0|[2.01136166752172...|\n",
      "|  1.0|(13,[1,3,4,5,7,11...|\n",
      "|  0.0|(13,[1,3,4,5,9,11...|\n",
      "|  0.0|[0.0,1.2654139310...|\n",
      "|  0.0|(13,[1,3,4,5,9,11...|\n",
      "+-----+--------------------+\n",
      "only showing top 20 rows\n",
      "\n"
     ]
    }
   ],
   "source": [
    "#new\n",
    "data1.show()"
   ]
  },
  {
   "cell_type": "markdown",
   "metadata": {},
   "source": [
    "### 分实验和测试数据"
   ]
  },
  {
   "cell_type": "code",
   "execution_count": 218,
   "metadata": {},
   "outputs": [],
   "source": [
    "train, validation = data1.randomSplit([0.8, 0.2], seed=42)\n",
    "train = train.cache()"
   ]
  },
  {
   "cell_type": "code",
   "execution_count": 219,
   "metadata": {},
   "outputs": [
    {
     "name": "stdout",
     "output_type": "stream",
     "text": [
      "+-----+--------------------+\n",
      "|label|            features|\n",
      "+-----+--------------------+\n",
      "|  0.0|(13,[0,1,3,4,5,11...|\n",
      "|  0.0|(13,[1,2,3,4,11,1...|\n",
      "|  0.0|(13,[1,3,4,5,9,11...|\n",
      "|  0.0|(13,[1,3,4,5,9,11...|\n",
      "|  0.0|(13,[1,3,4,5,9,11...|\n",
      "|  0.0|(13,[1,3,4,5,9,11...|\n",
      "|  0.0|(13,[1,3,4,5,11,1...|\n",
      "|  0.0|(13,[1,3,4,5,11,1...|\n",
      "|  0.0|(13,[1,3,4,5,11,1...|\n",
      "|  0.0|(13,[1,3,4,5,11,1...|\n",
      "|  0.0|[0.0,0.1933271283...|\n",
      "|  0.0|[0.0,0.1965226180...|\n",
      "|  0.0|[0.0,0.2332707499...|\n",
      "|  0.0|[0.0,0.2987782892...|\n",
      "|  0.0|[0.0,0.3371241659...|\n",
      "|  0.0|[0.0,0.3722745529...|\n",
      "|  0.0|[0.0,0.3962407258...|\n",
      "|  0.0|[0.0,0.4234023885...|\n",
      "|  0.0|[0.0,0.4234023885...|\n",
      "|  0.0|[0.0,0.4585527755...|\n",
      "+-----+--------------------+\n",
      "only showing top 20 rows\n",
      "\n"
     ]
    }
   ],
   "source": [
    "train.show()"
   ]
  },
  {
   "cell_type": "markdown",
   "metadata": {},
   "source": [
    "## 模型1-LogisticRegression()"
   ]
  },
  {
   "cell_type": "code",
   "execution_count": 244,
   "metadata": {},
   "outputs": [],
   "source": [
    "#建立模型\n",
    "lrs =  LogisticRegression()\n",
    "#模型调参 优化模型\n",
    "paramGrid = ParamGridBuilder() \\\n",
    "    .addGrid(lrs.elasticNetParam,[0.0, 0.5, 1.0]) \\\n",
    "    .addGrid(lrs.regParam,[0.01, 0.1]) \\\n",
    "    .addGrid(lrs.aggregationDepth,[2, 5]) \\\n",
    "    .build()\n",
    "\n",
    "crossval_lrs = CrossValidator(estimator=lrs,\n",
    "                          estimatorParamMaps=paramGrid,\n",
    "                          evaluator=MulticlassClassificationEvaluator(),\n",
    "                          numFolds=3)"
   ]
  },
  {
   "cell_type": "code",
   "execution_count": 245,
   "metadata": {},
   "outputs": [
    {
     "data": {
      "text/plain": [
       "[0.7981382357513518,\n",
       " 0.7981382357513518,\n",
       " 0.7250326988261936,\n",
       " 0.7250326988261936,\n",
       " 0.7856691478330748,\n",
       " 0.7856691478330748,\n",
       " 0.6848285802299887,\n",
       " 0.6848285802299887,\n",
       " 0.772774782552758,\n",
       " 0.772774782552758,\n",
       " 0.6848285802299887,\n",
       " 0.6848285802299887]"
      ]
     },
     "execution_count": 245,
     "metadata": {},
     "output_type": "execute_result"
    }
   ],
   "source": [
    "#用train数据训练模型   5点38\n",
    "Model_lrs = crossval_lrs.fit(train)\n",
    "Model_lrs.avgMetrics  #每个参数组合的模型的准确率"
   ]
  },
  {
   "cell_type": "code",
   "execution_count": null,
   "metadata": {},
   "outputs": [],
   "source": []
  },
  {
   "cell_type": "markdown",
   "metadata": {},
   "source": [
    "## 模型2-GBTClassifier()"
   ]
  },
  {
   "cell_type": "code",
   "execution_count": 246,
   "metadata": {},
   "outputs": [],
   "source": [
    "gbts = GBTClassifier()\n",
    "paramGrid = ParamGridBuilder() \\\n",
    "    .addGrid(gbts.maxIter,[5, 20]) \\\n",
    "    .addGrid(gbts.maxDepth,[2, 4, 8]) \\\n",
    "    .addGrid(gbts.maxBins ,[10, 5]) \\\n",
    "    .build()\n",
    "crossval_gbts = CrossValidator(estimator=gbts,\n",
    "                          estimatorParamMaps=paramGrid,\n",
    "                          evaluator=MulticlassClassificationEvaluator(),\n",
    "                          numFolds=3)"
   ]
  },
  {
   "cell_type": "code",
   "execution_count": 247,
   "metadata": {},
   "outputs": [
    {
     "data": {
      "text/plain": [
       "[0.7501280757146976,\n",
       " 0.7337342419640472,\n",
       " 0.7589080088817882,\n",
       " 0.7612096076355347,\n",
       " 0.7301498219440458,\n",
       " 0.721834583538427,\n",
       " 0.7720054665196484,\n",
       " 0.757369608928337,\n",
       " 0.7662156021489562,\n",
       " 0.7680260877810344,\n",
       " 0.7301498219440458,\n",
       " 0.7272136254463435]"
      ]
     },
     "execution_count": 247,
     "metadata": {},
     "output_type": "execute_result"
    }
   ],
   "source": [
    "#用train数据训练模型  \n",
    "Model_gbt = crossval_gbts.fit(train)\n",
    "Model_gbt.avgMetrics"
   ]
  },
  {
   "cell_type": "code",
   "execution_count": null,
   "metadata": {},
   "outputs": [],
   "source": []
  },
  {
   "cell_type": "markdown",
   "metadata": {},
   "source": [
    "### 使用验证数据通过F1得分来评价最佳模型"
   ]
  },
  {
   "cell_type": "code",
   "execution_count": null,
   "metadata": {},
   "outputs": [],
   "source": [
    "def get_model_metrics(model,data,):\n",
    "    metrics = []\n",
    "    predict = model.transform(data)\n",
    "    tp = predict.filter(\"label = 1 and prediction = 1\").count()\n",
    "    fp = predict.filter(\"label = 0 and prediction = 1\").count()\n",
    "    fn = predict.filter(\"label = 1 and prediction = 0\").count()\n",
    "    n =  predict.count()\n",
    "    accuracy = (n -(fp +fn))/n\n",
    "    precision = tp / (tp + fp) \n",
    "    recall = tp / (tp + fn)\n",
    "    f1 = 2*precision*recall / (precision+recall)\n",
    "    metrics.append(accuracy)\n",
    "    metrics.append(precision)\n",
    "    metrics.append(recall)\n",
    "    metrics.append(f1)\n",
    "    metrics_names = ['accuracy', 'precision', 'recall', 'f1score']\n",
    "    dfmetrics = pd.DataFrame(metrics,index=metrics_names)\n",
    "    return dfmetrics"
   ]
  },
  {
   "cell_type": "code",
   "execution_count": 249,
   "metadata": {},
   "outputs": [],
   "source": [
    "lrs_train = get_model_metrics(Model_lrs,train)\n",
    "lrs_validation = get_model_metrics(Model_lrs,validation)\n",
    "gbt_train = get_model_metrics(Model_gbt,train)\n",
    "gbt_validation = get_model_metrics(Model_gbt,validation)"
   ]
  },
  {
   "cell_type": "code",
   "execution_count": 257,
   "metadata": {},
   "outputs": [
    {
     "data": {
      "text/html": [
       "<div>\n",
       "<style scoped>\n",
       "    .dataframe tbody tr th:only-of-type {\n",
       "        vertical-align: middle;\n",
       "    }\n",
       "\n",
       "    .dataframe tbody tr th {\n",
       "        vertical-align: top;\n",
       "    }\n",
       "\n",
       "    .dataframe thead th {\n",
       "        text-align: right;\n",
       "    }\n",
       "</style>\n",
       "<table border=\"1\" class=\"dataframe\">\n",
       "  <thead>\n",
       "    <tr style=\"text-align: right;\">\n",
       "      <th></th>\n",
       "      <th>Mode_lrs_train</th>\n",
       "      <th>Mode_lrs_validation</th>\n",
       "      <th>Mode_gbt_train</th>\n",
       "      <th>Mode_gbt_validation</th>\n",
       "    </tr>\n",
       "  </thead>\n",
       "  <tbody>\n",
       "    <tr>\n",
       "      <th>accuracy</th>\n",
       "      <td>0.826705</td>\n",
       "      <td>0.791667</td>\n",
       "      <td>0.857955</td>\n",
       "      <td>0.770833</td>\n",
       "    </tr>\n",
       "    <tr>\n",
       "      <th>precision</th>\n",
       "      <td>0.735294</td>\n",
       "      <td>0.625000</td>\n",
       "      <td>0.935484</td>\n",
       "      <td>0.500000</td>\n",
       "    </tr>\n",
       "    <tr>\n",
       "      <th>recall</th>\n",
       "      <td>0.324675</td>\n",
       "      <td>0.227273</td>\n",
       "      <td>0.376623</td>\n",
       "      <td>0.318182</td>\n",
       "    </tr>\n",
       "    <tr>\n",
       "      <th>f1score</th>\n",
       "      <td>0.450450</td>\n",
       "      <td>0.333333</td>\n",
       "      <td>0.537037</td>\n",
       "      <td>0.388889</td>\n",
       "    </tr>\n",
       "  </tbody>\n",
       "</table>\n",
       "</div>"
      ],
      "text/plain": [
       "           Mode_lrs_train  Mode_lrs_validation  Mode_gbt_train  \\\n",
       "accuracy         0.826705             0.791667        0.857955   \n",
       "precision        0.735294             0.625000        0.935484   \n",
       "recall           0.324675             0.227273        0.376623   \n",
       "f1score          0.450450             0.333333        0.537037   \n",
       "\n",
       "           Mode_gbt_validation  \n",
       "accuracy              0.770833  \n",
       "precision             0.500000  \n",
       "recall                0.318182  \n",
       "f1score               0.388889  "
      ]
     },
     "execution_count": 257,
     "metadata": {},
     "output_type": "execute_result"
    }
   ],
   "source": [
    "df_metrics = pd.concat([lrs_train, lrs_validation, gbt_train, gbt_validation], axis=1)\n",
    "df_metrics.columns = ['Mode_lrs_train', 'Mode_lrs_validation', 'Mode_gbt_train', 'Mode_gbt_validation']\n",
    "df_metrics"
   ]
  },
  {
   "cell_type": "markdown",
   "metadata": {},
   "source": [
    "## 结论：由上述图表可看出，模型Mode_gbt在数据validation在f1score大于模型Mode_lrs，故选择模型Mode_gbt来预测数据，分析用户是否会流失"
   ]
  },
  {
   "cell_type": "markdown",
   "metadata": {},
   "source": [
    "# 最后一步\n",
    "清理你的代码，添加注释和重命名变量，使得代码更易读和易于维护。参考 Spark 项目概述页面和数据科学家毕业项目审阅要求，确保你的项目包含了毕业项目要求的所有内容，并且满足所有审阅要求。记得在 GitHub 代码库里包含一份全面的文档——README文件，以及一个网络应用程序或博客文章。"
   ]
  },
  {
   "cell_type": "code",
   "execution_count": null,
   "metadata": {},
   "outputs": [],
   "source": []
  }
 ],
 "metadata": {
  "kernelspec": {
   "display_name": "Python 3",
   "language": "python",
   "name": "python3"
  },
  "language_info": {
   "codemirror_mode": {
    "name": "ipython",
    "version": 3
   },
   "file_extension": ".py",
   "mimetype": "text/x-python",
   "name": "python",
   "nbconvert_exporter": "python",
   "pygments_lexer": "ipython3",
   "version": "3.6.3"
  }
 },
 "nbformat": 4,
 "nbformat_minor": 2
}
